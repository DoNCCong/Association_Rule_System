{
 "cells": [
  {
   "cell_type": "markdown",
   "id": "8c1ff737",
   "metadata": {},
   "source": [
    "# 1. What's Text Mining ?"
   ]
  },
  {
   "cell_type": "markdown",
   "id": "f876049d",
   "metadata": {},
   "source": [
    "Text mining, also known as text data mining, is the process of transforming unstructured text into a structured format to identify meaningful patterns and new insights. You can use text mining to analyze vast collections of textual materials to capture key concepts, trends and hidden relationships.\n",
    "Link: https://www.ibm.com/topics/text-mining"
   ]
  },
  {
   "cell_type": "markdown",
   "id": "0bd0a9d8",
   "metadata": {},
   "source": [
    "# 2. Processing"
   ]
  },
  {
   "cell_type": "markdown",
   "id": "1012900d",
   "metadata": {},
   "source": [
    "## 1. Preprocessing\n",
    "## 2. Document Representation\n",
    "## 3. Association Rule Mining\n",
    "## 4. Rule Generation\n",
    "## 5. Rule Evaluation and Selection\n",
    "## 6. Interpretation and Visualization\n",
    "## 7. Application"
   ]
  },
  {
   "cell_type": "markdown",
   "id": "dce6dd7b",
   "metadata": {},
   "source": [
    "Link: https://arxiv.org/ftp/arxiv/papers/1009/1009.4582.pdf"
   ]
  },
  {
   "cell_type": "markdown",
   "id": "32d24101",
   "metadata": {},
   "source": [
    "# 3. Demo"
   ]
  },
  {
   "cell_type": "markdown",
   "id": "bcb9715b",
   "metadata": {},
   "source": [
    "## 1. Read Data"
   ]
  },
  {
   "cell_type": "code",
   "execution_count": 248,
   "id": "b819db8b",
   "metadata": {},
   "outputs": [],
   "source": [
    "list_word = []"
   ]
  },
  {
   "cell_type": "code",
   "execution_count": 249,
   "id": "bfc449b2",
   "metadata": {},
   "outputs": [],
   "source": [
    "with open('data.txt','r') as f:\n",
    "    info_temp = f.read()"
   ]
  },
  {
   "cell_type": "code",
   "execution_count": 250,
   "id": "50cba7ce",
   "metadata": {},
   "outputs": [],
   "source": [
    "list_word = info_temp.split(' ')"
   ]
  },
  {
   "cell_type": "code",
   "execution_count": 251,
   "id": "f33c8b22",
   "metadata": {},
   "outputs": [
    {
     "name": "stdout",
     "output_type": "stream",
     "text": [
      "['The', 'Ho', 'Chi', 'Minh', 'City', 'University', 'of', 'Technology', 'and', 'Education', 'HCMUTE', 'stands', 'beacon', 'of', 'academic', 'excellence', 'in', 'Vietnam', 'Established', 'in', '1957', 'the', 'Ho', 'Chi', 'Minh', 'City', 'Pedagogical', 'University', 'its', 'transformation', 'into', 'HCMUTE', 'in', '2006', 'marked', 'significant', 'milestone', 'in', 'its', 'journey', 'Situated', 'in', 'the', 'bustling', 'metropolis', 'of', 'Ho', 'Chi', 'Minh', 'City', 'the', \"university's\", 'campus', 'in', 'Thu', 'Duc', 'District', 'serves', 'vibrant', 'hub', 'for', 'learning', 'and', 'innovation', 'Offering', 'diverse', 'array', 'of', 'undergraduate', 'and', 'graduate', 'programs', 'HCMUTE', 'specializes', 'in', 'engineering', 'technology', 'and', 'education', 'From', 'mechanical', 'engineering', 'to', 'computer', 'science', 'civil', 'engineering', 'to', 'architecture', 'and', 'education', 'management', 'the', 'university', 'caters', 'to', 'wide', 'spectrum', 'of', 'academic', 'interests', 'Research', 'and', 'innovation', 'form', 'the', 'cornerstone', 'of', \"HCMUTE's\", 'mission', 'With', 'state-of-the-art', 'facilities', 'and', 'collaborative', 'partnerships', 'with', 'industry', 'and', 'government', 'entities', 'the', 'university', 'fosters', 'an', 'environment', 'conducive', 'to', 'groundbreaking', 'research']\n"
     ]
    }
   ],
   "source": [
    "print(list_word)"
   ]
  },
  {
   "cell_type": "markdown",
   "id": "35a178f3",
   "metadata": {},
   "source": [
    "# 2. Creating Itemsets"
   ]
  },
  {
   "cell_type": "markdown",
   "id": "3216e817",
   "metadata": {},
   "source": [
    "## Using combination in math to find all."
   ]
  },
  {
   "cell_type": "code",
   "execution_count": 252,
   "id": "b2392f7c",
   "metadata": {},
   "outputs": [],
   "source": [
    "from itertools import combinations "
   ]
  },
  {
   "cell_type": "code",
   "execution_count": 253,
   "id": "efaa6e04",
   "metadata": {},
   "outputs": [],
   "source": [
    "transaction = []\n",
    "for i in range(1,5):\n",
    "    comb = combinations(list_word, i)\n",
    "    transaction += list(comb)"
   ]
  },
  {
   "cell_type": "code",
   "execution_count": 254,
   "id": "d8463023",
   "metadata": {},
   "outputs": [
    {
     "name": "stdout",
     "output_type": "stream",
     "text": [
      "[('University', 'in'), ('University', 'the'), ('University', 'bustling'), ('University', 'metropolis'), ('University', 'of'), ('University', 'Ho'), ('University', 'Chi'), ('University', 'Minh'), ('University', 'City'), ('University', 'the'), ('University', \"university's\"), ('University', 'campus'), ('University', 'in'), ('University', 'Thu'), ('University', 'Duc'), ('University', 'District'), ('University', 'serves'), ('University', 'vibrant'), ('University', 'hub'), ('University', 'for'), ('University', 'learning'), ('University', 'and'), ('University', 'innovation'), ('University', 'Offering'), ('University', 'diverse'), ('University', 'array'), ('University', 'of'), ('University', 'undergraduate'), ('University', 'and'), ('University', 'graduate'), ('University', 'programs'), ('University', 'HCMUTE'), ('University', 'specializes'), ('University', 'in'), ('University', 'engineering'), ('University', 'technology'), ('University', 'and'), ('University', 'education'), ('University', 'From'), ('University', 'mechanical'), ('University', 'engineering'), ('University', 'to'), ('University', 'computer'), ('University', 'science'), ('University', 'civil'), ('University', 'engineering'), ('University', 'to'), ('University', 'architecture'), ('University', 'and'), ('University', 'education'), ('University', 'management'), ('University', 'the'), ('University', 'university'), ('University', 'caters'), ('University', 'to'), ('University', 'wide'), ('University', 'spectrum'), ('University', 'of'), ('University', 'academic'), ('University', 'interests'), ('University', 'Research'), ('University', 'and'), ('University', 'innovation'), ('University', 'form'), ('University', 'the'), ('University', 'cornerstone'), ('University', 'of'), ('University', \"HCMUTE's\"), ('University', 'mission'), ('University', 'With'), ('University', 'state-of-the-art'), ('University', 'facilities'), ('University', 'and'), ('University', 'collaborative'), ('University', 'partnerships'), ('University', 'with'), ('University', 'industry'), ('University', 'and'), ('University', 'government'), ('University', 'entities'), ('University', 'the'), ('University', 'university'), ('University', 'fosters'), ('University', 'an'), ('University', 'environment'), ('University', 'conducive'), ('University', 'to'), ('University', 'groundbreaking'), ('University', 'research'), ('of', 'Technology'), ('of', 'and'), ('of', 'Education'), ('of', 'HCMUTE'), ('of', 'stands'), ('of', 'beacon'), ('of', 'of'), ('of', 'academic'), ('of', 'excellence'), ('of', 'in'), ('of', 'Vietnam'), ('of', 'Established'), ('of', 'in'), ('of', '1957'), ('of', 'the'), ('of', 'Ho'), ('of', 'Chi'), ('of', 'Minh'), ('of', 'City'), ('of', 'Pedagogical'), ('of', 'University'), ('of', 'its'), ('of', 'transformation'), ('of', 'into'), ('of', 'HCMUTE'), ('of', 'in'), ('of', '2006'), ('of', 'marked'), ('of', 'significant'), ('of', 'milestone'), ('of', 'in'), ('of', 'its'), ('of', 'journey'), ('of', 'Situated'), ('of', 'in'), ('of', 'the'), ('of', 'bustling'), ('of', 'metropolis'), ('of', 'of'), ('of', 'Ho'), ('of', 'Chi'), ('of', 'Minh'), ('of', 'City'), ('of', 'the'), ('of', \"university's\"), ('of', 'campus'), ('of', 'in'), ('of', 'Thu'), ('of', 'Duc'), ('of', 'District'), ('of', 'serves'), ('of', 'vibrant'), ('of', 'hub'), ('of', 'for'), ('of', 'learning'), ('of', 'and'), ('of', 'innovation'), ('of', 'Offering'), ('of', 'diverse'), ('of', 'array'), ('of', 'of'), ('of', 'undergraduate'), ('of', 'and'), ('of', 'graduate'), ('of', 'programs'), ('of', 'HCMUTE'), ('of', 'specializes'), ('of', 'in'), ('of', 'engineering'), ('of', 'technology'), ('of', 'and'), ('of', 'education'), ('of', 'From'), ('of', 'mechanical'), ('of', 'engineering'), ('of', 'to'), ('of', 'computer'), ('of', 'science'), ('of', 'civil'), ('of', 'engineering'), ('of', 'to'), ('of', 'architecture'), ('of', 'and'), ('of', 'education'), ('of', 'management'), ('of', 'the'), ('of', 'university'), ('of', 'caters'), ('of', 'to'), ('of', 'wide'), ('of', 'spectrum'), ('of', 'of'), ('of', 'academic'), ('of', 'interests'), ('of', 'Research'), ('of', 'and'), ('of', 'innovation'), ('of', 'form'), ('of', 'the'), ('of', 'cornerstone'), ('of', 'of'), ('of', \"HCMUTE's\"), ('of', 'mission'), ('of', 'With'), ('of', 'state-of-the-art'), ('of', 'facilities'), ('of', 'and'), ('of', 'collaborative'), ('of', 'partnerships'), ('of', 'with'), ('of', 'industry')]\n"
     ]
    }
   ],
   "source": [
    "print(transaction[800:1000])"
   ]
  },
  {
   "cell_type": "code",
   "execution_count": 255,
   "id": "9a75cdbd",
   "metadata": {},
   "outputs": [
    {
     "data": {
      "text/plain": [
       "11725155"
      ]
     },
     "execution_count": 255,
     "metadata": {},
     "output_type": "execute_result"
    }
   ],
   "source": [
    "len(transaction)"
   ]
  },
  {
   "cell_type": "code",
   "execution_count": 256,
   "id": "fa852011",
   "metadata": {},
   "outputs": [
    {
     "data": {
      "text/html": [
       "<div>\n",
       "<style scoped>\n",
       "    .dataframe tbody tr th:only-of-type {\n",
       "        vertical-align: middle;\n",
       "    }\n",
       "\n",
       "    .dataframe tbody tr th {\n",
       "        vertical-align: top;\n",
       "    }\n",
       "\n",
       "    .dataframe thead th {\n",
       "        text-align: right;\n",
       "    }\n",
       "</style>\n",
       "<table border=\"1\" class=\"dataframe\">\n",
       "  <thead>\n",
       "    <tr style=\"text-align: right;\">\n",
       "      <th></th>\n",
       "      <th>1957</th>\n",
       "      <th>2006</th>\n",
       "      <th>Chi</th>\n",
       "      <th>City</th>\n",
       "      <th>District</th>\n",
       "      <th>Duc</th>\n",
       "      <th>Education</th>\n",
       "      <th>Established</th>\n",
       "      <th>From</th>\n",
       "      <th>HCMUTE</th>\n",
       "      <th>...</th>\n",
       "      <th>technology</th>\n",
       "      <th>the</th>\n",
       "      <th>to</th>\n",
       "      <th>transformation</th>\n",
       "      <th>undergraduate</th>\n",
       "      <th>university</th>\n",
       "      <th>university's</th>\n",
       "      <th>vibrant</th>\n",
       "      <th>wide</th>\n",
       "      <th>with</th>\n",
       "    </tr>\n",
       "  </thead>\n",
       "  <tbody>\n",
       "    <tr>\n",
       "      <th>0</th>\n",
       "      <td>False</td>\n",
       "      <td>False</td>\n",
       "      <td>False</td>\n",
       "      <td>False</td>\n",
       "      <td>False</td>\n",
       "      <td>False</td>\n",
       "      <td>False</td>\n",
       "      <td>False</td>\n",
       "      <td>False</td>\n",
       "      <td>False</td>\n",
       "      <td>...</td>\n",
       "      <td>False</td>\n",
       "      <td>False</td>\n",
       "      <td>False</td>\n",
       "      <td>False</td>\n",
       "      <td>False</td>\n",
       "      <td>False</td>\n",
       "      <td>False</td>\n",
       "      <td>False</td>\n",
       "      <td>False</td>\n",
       "      <td>False</td>\n",
       "    </tr>\n",
       "    <tr>\n",
       "      <th>1</th>\n",
       "      <td>False</td>\n",
       "      <td>False</td>\n",
       "      <td>False</td>\n",
       "      <td>False</td>\n",
       "      <td>False</td>\n",
       "      <td>False</td>\n",
       "      <td>False</td>\n",
       "      <td>False</td>\n",
       "      <td>False</td>\n",
       "      <td>False</td>\n",
       "      <td>...</td>\n",
       "      <td>False</td>\n",
       "      <td>False</td>\n",
       "      <td>False</td>\n",
       "      <td>False</td>\n",
       "      <td>False</td>\n",
       "      <td>False</td>\n",
       "      <td>False</td>\n",
       "      <td>False</td>\n",
       "      <td>False</td>\n",
       "      <td>False</td>\n",
       "    </tr>\n",
       "    <tr>\n",
       "      <th>2</th>\n",
       "      <td>False</td>\n",
       "      <td>False</td>\n",
       "      <td>True</td>\n",
       "      <td>False</td>\n",
       "      <td>False</td>\n",
       "      <td>False</td>\n",
       "      <td>False</td>\n",
       "      <td>False</td>\n",
       "      <td>False</td>\n",
       "      <td>False</td>\n",
       "      <td>...</td>\n",
       "      <td>False</td>\n",
       "      <td>False</td>\n",
       "      <td>False</td>\n",
       "      <td>False</td>\n",
       "      <td>False</td>\n",
       "      <td>False</td>\n",
       "      <td>False</td>\n",
       "      <td>False</td>\n",
       "      <td>False</td>\n",
       "      <td>False</td>\n",
       "    </tr>\n",
       "    <tr>\n",
       "      <th>3</th>\n",
       "      <td>False</td>\n",
       "      <td>False</td>\n",
       "      <td>False</td>\n",
       "      <td>False</td>\n",
       "      <td>False</td>\n",
       "      <td>False</td>\n",
       "      <td>False</td>\n",
       "      <td>False</td>\n",
       "      <td>False</td>\n",
       "      <td>False</td>\n",
       "      <td>...</td>\n",
       "      <td>False</td>\n",
       "      <td>False</td>\n",
       "      <td>False</td>\n",
       "      <td>False</td>\n",
       "      <td>False</td>\n",
       "      <td>False</td>\n",
       "      <td>False</td>\n",
       "      <td>False</td>\n",
       "      <td>False</td>\n",
       "      <td>False</td>\n",
       "    </tr>\n",
       "    <tr>\n",
       "      <th>4</th>\n",
       "      <td>False</td>\n",
       "      <td>False</td>\n",
       "      <td>False</td>\n",
       "      <td>True</td>\n",
       "      <td>False</td>\n",
       "      <td>False</td>\n",
       "      <td>False</td>\n",
       "      <td>False</td>\n",
       "      <td>False</td>\n",
       "      <td>False</td>\n",
       "      <td>...</td>\n",
       "      <td>False</td>\n",
       "      <td>False</td>\n",
       "      <td>False</td>\n",
       "      <td>False</td>\n",
       "      <td>False</td>\n",
       "      <td>False</td>\n",
       "      <td>False</td>\n",
       "      <td>False</td>\n",
       "      <td>False</td>\n",
       "      <td>False</td>\n",
       "    </tr>\n",
       "  </tbody>\n",
       "</table>\n",
       "<p>5 rows × 86 columns</p>\n",
       "</div>"
      ],
      "text/plain": [
       "    1957   2006    Chi   City  District    Duc  Education  Established   From  \\\n",
       "0  False  False  False  False     False  False      False        False  False   \n",
       "1  False  False  False  False     False  False      False        False  False   \n",
       "2  False  False   True  False     False  False      False        False  False   \n",
       "3  False  False  False  False     False  False      False        False  False   \n",
       "4  False  False  False   True     False  False      False        False  False   \n",
       "\n",
       "   HCMUTE  ...  technology    the     to  transformation  undergraduate  \\\n",
       "0   False  ...       False  False  False           False          False   \n",
       "1   False  ...       False  False  False           False          False   \n",
       "2   False  ...       False  False  False           False          False   \n",
       "3   False  ...       False  False  False           False          False   \n",
       "4   False  ...       False  False  False           False          False   \n",
       "\n",
       "   university  university's  vibrant   wide   with  \n",
       "0       False         False    False  False  False  \n",
       "1       False         False    False  False  False  \n",
       "2       False         False    False  False  False  \n",
       "3       False         False    False  False  False  \n",
       "4       False         False    False  False  False  \n",
       "\n",
       "[5 rows x 86 columns]"
      ]
     },
     "execution_count": 256,
     "metadata": {},
     "output_type": "execute_result"
    }
   ],
   "source": [
    "from mlxtend.preprocessing import TransactionEncoder\n",
    "import pandas as pd\n",
    "te = TransactionEncoder()\n",
    "te_ary = te.fit(transaction).transform(transaction)\n",
    "dataset = pd.DataFrame(te_ary, columns=te.columns_)\n",
    "dataset.head()"
   ]
  },
  {
   "cell_type": "code",
   "execution_count": 257,
   "id": "ca4e6b03",
   "metadata": {},
   "outputs": [
    {
     "data": {
      "text/plain": [
       "(11725155, 86)"
      ]
     },
     "execution_count": 257,
     "metadata": {},
     "output_type": "execute_result"
    }
   ],
   "source": [
    "dataset.shape"
   ]
  },
  {
   "cell_type": "code",
   "execution_count": 258,
   "id": "80b020f3",
   "metadata": {},
   "outputs": [],
   "source": [
    "dataset_2=dataset[0:10000:]"
   ]
  },
  {
   "cell_type": "code",
   "execution_count": 259,
   "id": "3a110cc7",
   "metadata": {},
   "outputs": [
    {
     "data": {
      "text/plain": [
       "(10000, 86)"
      ]
     },
     "execution_count": 259,
     "metadata": {},
     "output_type": "execute_result"
    }
   ],
   "source": [
    "dataset_2.shape"
   ]
  },
  {
   "cell_type": "markdown",
   "id": "dc71e54d",
   "metadata": {},
   "source": [
    "# 3.Using Apriori in mlxtend:"
   ]
  },
  {
   "cell_type": "code",
   "execution_count": 260,
   "id": "6495efac",
   "metadata": {},
   "outputs": [
    {
     "data": {
      "text/html": [
       "<div>\n",
       "<style scoped>\n",
       "    .dataframe tbody tr th:only-of-type {\n",
       "        vertical-align: middle;\n",
       "    }\n",
       "\n",
       "    .dataframe tbody tr th {\n",
       "        vertical-align: top;\n",
       "    }\n",
       "\n",
       "    .dataframe thead th {\n",
       "        text-align: right;\n",
       "    }\n",
       "</style>\n",
       "<table border=\"1\" class=\"dataframe\">\n",
       "  <thead>\n",
       "    <tr style=\"text-align: right;\">\n",
       "      <th></th>\n",
       "      <th>support</th>\n",
       "      <th>itemsets</th>\n",
       "      <th>length</th>\n",
       "    </tr>\n",
       "  </thead>\n",
       "  <tbody>\n",
       "    <tr>\n",
       "      <th>0</th>\n",
       "      <td>0.0143</td>\n",
       "      <td>(1957)</td>\n",
       "      <td>1</td>\n",
       "    </tr>\n",
       "    <tr>\n",
       "      <th>1</th>\n",
       "      <td>0.0142</td>\n",
       "      <td>(2006)</td>\n",
       "      <td>1</td>\n",
       "    </tr>\n",
       "    <tr>\n",
       "      <th>2</th>\n",
       "      <td>0.0538</td>\n",
       "      <td>(Chi)</td>\n",
       "      <td>1</td>\n",
       "    </tr>\n",
       "    <tr>\n",
       "      <th>3</th>\n",
       "      <td>0.0538</td>\n",
       "      <td>(City)</td>\n",
       "      <td>1</td>\n",
       "    </tr>\n",
       "    <tr>\n",
       "      <th>4</th>\n",
       "      <td>0.0142</td>\n",
       "      <td>(District)</td>\n",
       "      <td>1</td>\n",
       "    </tr>\n",
       "  </tbody>\n",
       "</table>\n",
       "</div>"
      ],
      "text/plain": [
       "   support    itemsets  length\n",
       "0   0.0143      (1957)       1\n",
       "1   0.0142      (2006)       1\n",
       "2   0.0538       (Chi)       1\n",
       "3   0.0538      (City)       1\n",
       "4   0.0142  (District)       1"
      ]
     },
     "execution_count": 260,
     "metadata": {},
     "output_type": "execute_result"
    }
   ],
   "source": [
    "from mlxtend.frequent_patterns import apriori, association_rules\n",
    "frequent_itemsets = apriori(dataset_2, min_support=0.001, use_colnames=True)\n",
    "frequent_itemsets['length'] = frequent_itemsets['itemsets'].apply(lambda x: len(x))\n",
    "frequent_itemsets[0:5:]"
   ]
  },
  {
   "cell_type": "code",
   "execution_count": 261,
   "id": "4fa58484",
   "metadata": {},
   "outputs": [
    {
     "data": {
      "text/html": [
       "<div>\n",
       "<style scoped>\n",
       "    .dataframe tbody tr th:only-of-type {\n",
       "        vertical-align: middle;\n",
       "    }\n",
       "\n",
       "    .dataframe tbody tr th {\n",
       "        vertical-align: top;\n",
       "    }\n",
       "\n",
       "    .dataframe thead th {\n",
       "        text-align: right;\n",
       "    }\n",
       "</style>\n",
       "<table border=\"1\" class=\"dataframe\">\n",
       "  <thead>\n",
       "    <tr style=\"text-align: right;\">\n",
       "      <th></th>\n",
       "      <th>support</th>\n",
       "      <th>itemsets</th>\n",
       "      <th>length</th>\n",
       "    </tr>\n",
       "  </thead>\n",
       "  <tbody>\n",
       "    <tr>\n",
       "      <th>92</th>\n",
       "      <td>0.0154</td>\n",
       "      <td>(The, Chi)</td>\n",
       "      <td>2</td>\n",
       "    </tr>\n",
       "    <tr>\n",
       "      <th>94</th>\n",
       "      <td>0.0034</td>\n",
       "      <td>(and, Chi)</td>\n",
       "      <td>2</td>\n",
       "    </tr>\n",
       "    <tr>\n",
       "      <th>103</th>\n",
       "      <td>0.0154</td>\n",
       "      <td>(The, City)</td>\n",
       "      <td>2</td>\n",
       "    </tr>\n",
       "    <tr>\n",
       "      <th>105</th>\n",
       "      <td>0.0034</td>\n",
       "      <td>(and, City)</td>\n",
       "      <td>2</td>\n",
       "    </tr>\n",
       "    <tr>\n",
       "      <th>113</th>\n",
       "      <td>0.0129</td>\n",
       "      <td>(The, Education)</td>\n",
       "      <td>2</td>\n",
       "    </tr>\n",
       "    <tr>\n",
       "      <th>122</th>\n",
       "      <td>0.0153</td>\n",
       "      <td>(The, HCMUTE)</td>\n",
       "      <td>2</td>\n",
       "    </tr>\n",
       "    <tr>\n",
       "      <th>124</th>\n",
       "      <td>0.0034</td>\n",
       "      <td>(and, HCMUTE)</td>\n",
       "      <td>2</td>\n",
       "    </tr>\n",
       "    <tr>\n",
       "      <th>132</th>\n",
       "      <td>0.0154</td>\n",
       "      <td>(Ho, The)</td>\n",
       "      <td>2</td>\n",
       "    </tr>\n",
       "    <tr>\n",
       "      <th>134</th>\n",
       "      <td>0.0034</td>\n",
       "      <td>(and, Ho)</td>\n",
       "      <td>2</td>\n",
       "    </tr>\n",
       "    <tr>\n",
       "      <th>140</th>\n",
       "      <td>0.0154</td>\n",
       "      <td>(The, Minh)</td>\n",
       "      <td>2</td>\n",
       "    </tr>\n",
       "    <tr>\n",
       "      <th>142</th>\n",
       "      <td>0.0034</td>\n",
       "      <td>(and, Minh)</td>\n",
       "      <td>2</td>\n",
       "    </tr>\n",
       "    <tr>\n",
       "      <th>152</th>\n",
       "      <td>0.0129</td>\n",
       "      <td>(The, Technology)</td>\n",
       "      <td>2</td>\n",
       "    </tr>\n",
       "    <tr>\n",
       "      <th>158</th>\n",
       "      <td>0.0142</td>\n",
       "      <td>(The, University)</td>\n",
       "      <td>2</td>\n",
       "    </tr>\n",
       "    <tr>\n",
       "      <th>163</th>\n",
       "      <td>0.0213</td>\n",
       "      <td>(and, The)</td>\n",
       "      <td>2</td>\n",
       "    </tr>\n",
       "    <tr>\n",
       "      <th>166</th>\n",
       "      <td>0.0129</td>\n",
       "      <td>(The, beacon)</td>\n",
       "      <td>2</td>\n",
       "    </tr>\n",
       "    <tr>\n",
       "      <th>177</th>\n",
       "      <td>0.0039</td>\n",
       "      <td>(The, engineering)</td>\n",
       "      <td>2</td>\n",
       "    </tr>\n",
       "    <tr>\n",
       "      <th>189</th>\n",
       "      <td>0.0093</td>\n",
       "      <td>(The, in)</td>\n",
       "      <td>2</td>\n",
       "    </tr>\n",
       "    <tr>\n",
       "      <th>203</th>\n",
       "      <td>0.0204</td>\n",
       "      <td>(of, The)</td>\n",
       "      <td>2</td>\n",
       "    </tr>\n",
       "    <tr>\n",
       "      <th>212</th>\n",
       "      <td>0.0129</td>\n",
       "      <td>(stands, The)</td>\n",
       "      <td>2</td>\n",
       "    </tr>\n",
       "    <tr>\n",
       "      <th>215</th>\n",
       "      <td>0.0079</td>\n",
       "      <td>(The, the)</td>\n",
       "      <td>2</td>\n",
       "    </tr>\n",
       "    <tr>\n",
       "      <th>216</th>\n",
       "      <td>0.0052</td>\n",
       "      <td>(The, to)</td>\n",
       "      <td>2</td>\n",
       "    </tr>\n",
       "    <tr>\n",
       "      <th>236</th>\n",
       "      <td>0.0063</td>\n",
       "      <td>(and, in)</td>\n",
       "      <td>2</td>\n",
       "    </tr>\n",
       "    <tr>\n",
       "      <th>239</th>\n",
       "      <td>0.0061</td>\n",
       "      <td>(and, of)</td>\n",
       "      <td>2</td>\n",
       "    </tr>\n",
       "    <tr>\n",
       "      <th>241</th>\n",
       "      <td>0.0054</td>\n",
       "      <td>(and, the)</td>\n",
       "      <td>2</td>\n",
       "    </tr>\n",
       "    <tr>\n",
       "      <th>242</th>\n",
       "      <td>0.0036</td>\n",
       "      <td>(and, to)</td>\n",
       "      <td>2</td>\n",
       "    </tr>\n",
       "    <tr>\n",
       "      <th>256</th>\n",
       "      <td>0.0051</td>\n",
       "      <td>(of, in)</td>\n",
       "      <td>2</td>\n",
       "    </tr>\n",
       "    <tr>\n",
       "      <th>258</th>\n",
       "      <td>0.0042</td>\n",
       "      <td>(in, the)</td>\n",
       "      <td>2</td>\n",
       "    </tr>\n",
       "    <tr>\n",
       "      <th>266</th>\n",
       "      <td>0.0043</td>\n",
       "      <td>(of, the)</td>\n",
       "      <td>2</td>\n",
       "    </tr>\n",
       "  </tbody>\n",
       "</table>\n",
       "</div>"
      ],
      "text/plain": [
       "     support            itemsets  length\n",
       "92    0.0154          (The, Chi)       2\n",
       "94    0.0034          (and, Chi)       2\n",
       "103   0.0154         (The, City)       2\n",
       "105   0.0034         (and, City)       2\n",
       "113   0.0129    (The, Education)       2\n",
       "122   0.0153       (The, HCMUTE)       2\n",
       "124   0.0034       (and, HCMUTE)       2\n",
       "132   0.0154           (Ho, The)       2\n",
       "134   0.0034           (and, Ho)       2\n",
       "140   0.0154         (The, Minh)       2\n",
       "142   0.0034         (and, Minh)       2\n",
       "152   0.0129   (The, Technology)       2\n",
       "158   0.0142   (The, University)       2\n",
       "163   0.0213          (and, The)       2\n",
       "166   0.0129       (The, beacon)       2\n",
       "177   0.0039  (The, engineering)       2\n",
       "189   0.0093           (The, in)       2\n",
       "203   0.0204           (of, The)       2\n",
       "212   0.0129       (stands, The)       2\n",
       "215   0.0079          (The, the)       2\n",
       "216   0.0052           (The, to)       2\n",
       "236   0.0063           (and, in)       2\n",
       "239   0.0061           (and, of)       2\n",
       "241   0.0054          (and, the)       2\n",
       "242   0.0036           (and, to)       2\n",
       "256   0.0051            (of, in)       2\n",
       "258   0.0042           (in, the)       2\n",
       "266   0.0043           (of, the)       2"
      ]
     },
     "execution_count": 261,
     "metadata": {},
     "output_type": "execute_result"
    }
   ],
   "source": [
    "frequent_itemsets[ (frequent_itemsets['length'] == 2) &\n",
    "                   (frequent_itemsets['support'] >= 0.003) ]"
   ]
  },
  {
   "cell_type": "markdown",
   "id": "a633f5c0",
   "metadata": {},
   "source": [
    "# 4. Khai phá luật kết hợp"
   ]
  },
  {
   "cell_type": "code",
   "execution_count": 262,
   "id": "a9753fd5",
   "metadata": {},
   "outputs": [
    {
     "data": {
      "text/html": [
       "<div>\n",
       "<style scoped>\n",
       "    .dataframe tbody tr th:only-of-type {\n",
       "        vertical-align: middle;\n",
       "    }\n",
       "\n",
       "    .dataframe tbody tr th {\n",
       "        vertical-align: top;\n",
       "    }\n",
       "\n",
       "    .dataframe thead th {\n",
       "        text-align: right;\n",
       "    }\n",
       "</style>\n",
       "<table border=\"1\" class=\"dataframe\">\n",
       "  <thead>\n",
       "    <tr style=\"text-align: right;\">\n",
       "      <th></th>\n",
       "      <th>antecedents</th>\n",
       "      <th>consequents</th>\n",
       "      <th>antecedent support</th>\n",
       "      <th>consequent support</th>\n",
       "      <th>support</th>\n",
       "      <th>confidence</th>\n",
       "      <th>lift</th>\n",
       "    </tr>\n",
       "  </thead>\n",
       "  <tbody>\n",
       "    <tr>\n",
       "      <th>252</th>\n",
       "      <td>(stands)</td>\n",
       "      <td>(The)</td>\n",
       "      <td>0.0258</td>\n",
       "      <td>0.1615</td>\n",
       "      <td>0.0129</td>\n",
       "      <td>0.500000</td>\n",
       "      <td>3.095975</td>\n",
       "    </tr>\n",
       "    <tr>\n",
       "      <th>253</th>\n",
       "      <td>(The)</td>\n",
       "      <td>(stands)</td>\n",
       "      <td>0.1615</td>\n",
       "      <td>0.0258</td>\n",
       "      <td>0.0129</td>\n",
       "      <td>0.079876</td>\n",
       "      <td>3.095975</td>\n",
       "    </tr>\n",
       "    <tr>\n",
       "      <th>132</th>\n",
       "      <td>(The)</td>\n",
       "      <td>(Technology)</td>\n",
       "      <td>0.1615</td>\n",
       "      <td>0.0258</td>\n",
       "      <td>0.0129</td>\n",
       "      <td>0.079876</td>\n",
       "      <td>3.095975</td>\n",
       "    </tr>\n",
       "    <tr>\n",
       "      <th>160</th>\n",
       "      <td>(The)</td>\n",
       "      <td>(beacon)</td>\n",
       "      <td>0.1615</td>\n",
       "      <td>0.0258</td>\n",
       "      <td>0.0129</td>\n",
       "      <td>0.079876</td>\n",
       "      <td>3.095975</td>\n",
       "    </tr>\n",
       "    <tr>\n",
       "      <th>133</th>\n",
       "      <td>(Technology)</td>\n",
       "      <td>(The)</td>\n",
       "      <td>0.0258</td>\n",
       "      <td>0.1615</td>\n",
       "      <td>0.0129</td>\n",
       "      <td>0.500000</td>\n",
       "      <td>3.095975</td>\n",
       "    </tr>\n",
       "  </tbody>\n",
       "</table>\n",
       "</div>"
      ],
      "text/plain": [
       "      antecedents   consequents  antecedent support  consequent support  \\\n",
       "252      (stands)         (The)              0.0258              0.1615   \n",
       "253         (The)      (stands)              0.1615              0.0258   \n",
       "132         (The)  (Technology)              0.1615              0.0258   \n",
       "160         (The)      (beacon)              0.1615              0.0258   \n",
       "133  (Technology)         (The)              0.0258              0.1615   \n",
       "\n",
       "     support  confidence      lift  \n",
       "252   0.0129    0.500000  3.095975  \n",
       "253   0.0129    0.079876  3.095975  \n",
       "132   0.0129    0.079876  3.095975  \n",
       "160   0.0129    0.079876  3.095975  \n",
       "133   0.0129    0.500000  3.095975  "
      ]
     },
     "execution_count": 262,
     "metadata": {},
     "output_type": "execute_result"
    }
   ],
   "source": [
    "rules = association_rules(frequent_itemsets, metric=\"lift\", min_threshold=0.2)\n",
    "rules[\"antecedents_length\"] = rules[\"antecedents\"].apply(lambda x: len(x))\n",
    "rules[\"consequents_length\"] = rules[\"consequents\"].apply(lambda x: len(x))\n",
    "rules.sort_values(\"lift\",ascending=False)[[\"antecedents\",\"consequents\",\"antecedent support\",\"consequent support\",\"support\",\"confidence\",\"lift\"]][0:5:]"
   ]
  },
  {
   "cell_type": "code",
   "execution_count": 263,
   "id": "d203c8c9",
   "metadata": {},
   "outputs": [
    {
     "data": {
      "text/html": [
       "<div>\n",
       "<style scoped>\n",
       "    .dataframe tbody tr th:only-of-type {\n",
       "        vertical-align: middle;\n",
       "    }\n",
       "\n",
       "    .dataframe tbody tr th {\n",
       "        vertical-align: top;\n",
       "    }\n",
       "\n",
       "    .dataframe thead th {\n",
       "        text-align: right;\n",
       "    }\n",
       "</style>\n",
       "<table border=\"1\" class=\"dataframe\">\n",
       "  <thead>\n",
       "    <tr style=\"text-align: right;\">\n",
       "      <th></th>\n",
       "      <th>antecedents</th>\n",
       "      <th>consequents</th>\n",
       "      <th>antecedent support</th>\n",
       "      <th>consequent support</th>\n",
       "      <th>support</th>\n",
       "      <th>confidence</th>\n",
       "      <th>lift</th>\n",
       "    </tr>\n",
       "  </thead>\n",
       "  <tbody>\n",
       "    <tr>\n",
       "      <th>161</th>\n",
       "      <td>(beacon)</td>\n",
       "      <td>(The)</td>\n",
       "      <td>0.0258</td>\n",
       "      <td>0.1615</td>\n",
       "      <td>0.0129</td>\n",
       "      <td>0.50000</td>\n",
       "      <td>3.095975</td>\n",
       "    </tr>\n",
       "    <tr>\n",
       "      <th>55</th>\n",
       "      <td>(Education)</td>\n",
       "      <td>(The)</td>\n",
       "      <td>0.0258</td>\n",
       "      <td>0.1615</td>\n",
       "      <td>0.0129</td>\n",
       "      <td>0.50000</td>\n",
       "      <td>3.095975</td>\n",
       "    </tr>\n",
       "    <tr>\n",
       "      <th>133</th>\n",
       "      <td>(Technology)</td>\n",
       "      <td>(The)</td>\n",
       "      <td>0.0258</td>\n",
       "      <td>0.1615</td>\n",
       "      <td>0.0129</td>\n",
       "      <td>0.50000</td>\n",
       "      <td>3.095975</td>\n",
       "    </tr>\n",
       "    <tr>\n",
       "      <th>252</th>\n",
       "      <td>(stands)</td>\n",
       "      <td>(The)</td>\n",
       "      <td>0.0258</td>\n",
       "      <td>0.1615</td>\n",
       "      <td>0.0129</td>\n",
       "      <td>0.50000</td>\n",
       "      <td>3.095975</td>\n",
       "    </tr>\n",
       "    <tr>\n",
       "      <th>145</th>\n",
       "      <td>(University)</td>\n",
       "      <td>(The)</td>\n",
       "      <td>0.0399</td>\n",
       "      <td>0.1615</td>\n",
       "      <td>0.0142</td>\n",
       "      <td>0.35589</td>\n",
       "      <td>2.203652</td>\n",
       "    </tr>\n",
       "  </tbody>\n",
       "</table>\n",
       "</div>"
      ],
      "text/plain": [
       "      antecedents consequents  antecedent support  consequent support  \\\n",
       "161      (beacon)       (The)              0.0258              0.1615   \n",
       "55    (Education)       (The)              0.0258              0.1615   \n",
       "133  (Technology)       (The)              0.0258              0.1615   \n",
       "252      (stands)       (The)              0.0258              0.1615   \n",
       "145  (University)       (The)              0.0399              0.1615   \n",
       "\n",
       "     support  confidence      lift  \n",
       "161   0.0129     0.50000  3.095975  \n",
       "55    0.0129     0.50000  3.095975  \n",
       "133   0.0129     0.50000  3.095975  \n",
       "252   0.0129     0.50000  3.095975  \n",
       "145   0.0142     0.35589  2.203652  "
      ]
     },
     "execution_count": 263,
     "metadata": {},
     "output_type": "execute_result"
    }
   ],
   "source": [
    "rules.sort_values(\"confidence\",ascending=False)[[\"antecedents\",\"consequents\",\"antecedent support\",\"consequent support\",\"support\",\"confidence\",\"lift\"]][0:5:]"
   ]
  },
  {
   "cell_type": "code",
   "execution_count": 264,
   "id": "8b4611f0",
   "metadata": {},
   "outputs": [
    {
     "data": {
      "text/plain": [
       "(408, 12)"
      ]
     },
     "execution_count": 264,
     "metadata": {},
     "output_type": "execute_result"
    }
   ],
   "source": [
    "rules.shape"
   ]
  },
  {
   "cell_type": "markdown",
   "id": "3622f8c1",
   "metadata": {},
   "source": [
    "# 4. Application"
   ]
  },
  {
   "cell_type": "code",
   "execution_count": 265,
   "id": "7ff7376c",
   "metadata": {},
   "outputs": [],
   "source": [
    "rules_a = rules.sort_values(\"confidence\",ascending=False)[[\"antecedents\",\"consequents\",\"antecedent support\",\"consequent support\",\"support\",\"confidence\",\"lift\"]]"
   ]
  },
  {
   "cell_type": "code",
   "execution_count": 266,
   "id": "09b5af92",
   "metadata": {},
   "outputs": [
    {
     "data": {
      "text/html": [
       "<div>\n",
       "<style scoped>\n",
       "    .dataframe tbody tr th:only-of-type {\n",
       "        vertical-align: middle;\n",
       "    }\n",
       "\n",
       "    .dataframe tbody tr th {\n",
       "        vertical-align: top;\n",
       "    }\n",
       "\n",
       "    .dataframe thead th {\n",
       "        text-align: right;\n",
       "    }\n",
       "</style>\n",
       "<table border=\"1\" class=\"dataframe\">\n",
       "  <thead>\n",
       "    <tr style=\"text-align: right;\">\n",
       "      <th></th>\n",
       "      <th>antecedents</th>\n",
       "      <th>consequents</th>\n",
       "    </tr>\n",
       "  </thead>\n",
       "  <tbody>\n",
       "    <tr>\n",
       "      <th>161</th>\n",
       "      <td>(beacon)</td>\n",
       "      <td>(The)</td>\n",
       "    </tr>\n",
       "    <tr>\n",
       "      <th>55</th>\n",
       "      <td>(Education)</td>\n",
       "      <td>(The)</td>\n",
       "    </tr>\n",
       "    <tr>\n",
       "      <th>133</th>\n",
       "      <td>(Technology)</td>\n",
       "      <td>(The)</td>\n",
       "    </tr>\n",
       "    <tr>\n",
       "      <th>252</th>\n",
       "      <td>(stands)</td>\n",
       "      <td>(The)</td>\n",
       "    </tr>\n",
       "    <tr>\n",
       "      <th>145</th>\n",
       "      <td>(University)</td>\n",
       "      <td>(The)</td>\n",
       "    </tr>\n",
       "  </tbody>\n",
       "</table>\n",
       "</div>"
      ],
      "text/plain": [
       "      antecedents consequents\n",
       "161      (beacon)       (The)\n",
       "55    (Education)       (The)\n",
       "133  (Technology)       (The)\n",
       "252      (stands)       (The)\n",
       "145  (University)       (The)"
      ]
     },
     "execution_count": 266,
     "metadata": {},
     "output_type": "execute_result"
    }
   ],
   "source": [
    "rules_a[[\"antecedents\",\"consequents\"]].head()"
   ]
  },
  {
   "cell_type": "code",
   "execution_count": 267,
   "id": "5dfd1a94",
   "metadata": {},
   "outputs": [],
   "source": [
    "rules_list = []\n",
    "for rows in rules.itertuples(): \n",
    "    x = str(rows.antecedents).strip(\"frozenset\").strip(\")(}{'\")\n",
    "    y = str(rows.consequents).strip(\"frozenset\").strip(\")(}{'\")\n",
    "    my_list =[x, y]\n",
    "    rules_list.append(my_list) "
   ]
  },
  {
   "cell_type": "code",
   "execution_count": 268,
   "id": "ab5ff256",
   "metadata": {},
   "outputs": [
    {
     "name": "stdout",
     "output_type": "stream",
     "text": [
      "[['1957', 'The'], ['The', '1957'], ['The', '2006'], ['2006', 'The'], ['City', 'Chi'], ['Chi', 'City'], ['HCMUTE', 'Chi'], ['Chi', 'HCMUTE'], ['Ho', 'Chi'], ['Chi', 'Ho'], ['Minh', 'Chi'], ['Chi', 'Minh'], ['The', 'Chi'], ['Chi', 'The'], ['University', 'Chi'], ['Chi', 'University'], ['and', 'Chi'], ['Chi', 'and'], ['engineering', 'Chi'], ['Chi', 'engineering'], ['in', 'Chi'], ['Chi', 'in'], ['of', 'Chi'], ['Chi', 'of'], ['Chi', 'the'], ['the', 'Chi'], ['Chi', 'to'], ['to', 'Chi'], ['City', 'HCMUTE'], ['HCMUTE', 'City'], ['Ho', 'City'], ['City', 'Ho'], ['City', 'Minh'], ['Minh', 'City'], ['The', 'City'], ['City', 'The'], ['City', 'University'], ['University', 'City'], ['and', 'City'], ['City', 'and'], ['City', 'engineering'], ['engineering', 'City'], ['in', 'City'], ['City', 'in'], ['of', 'City'], ['City', 'of'], ['City', 'the'], ['the', 'City'], ['City', 'to'], ['to', 'City'], ['District', 'The'], ['The', 'District'], ['Duc', 'The'], ['The', 'Duc'], ['The', 'Education'], ['Education', 'The'], ['and', 'Education'], ['Education', 'and'], ['in', 'Education'], ['Education', 'in'], ['of', 'Education'], ['Education', 'of'], ['Education', 'the'], ['the', 'Education'], ['Established', 'The'], ['The', 'Established'], ['From', 'The'], ['The', 'From'], ['Ho', 'HCMUTE'], ['HCMUTE', 'Ho'], ['HCMUTE', 'Minh'], ['Minh', 'HCMUTE'], ['The', 'HCMUTE'], ['HCMUTE', 'The'], ['HCMUTE', 'University'], ['University', 'HCMUTE'], ['and', 'HCMUTE'], ['HCMUTE', 'and'], ['HCMUTE', 'engineering'], ['engineering', 'HCMUTE'], ['in', 'HCMUTE'], ['HCMUTE', 'in'], ['of', 'HCMUTE'], ['HCMUTE', 'of'], ['HCMUTE', 'the'], ['the', 'HCMUTE'], ['HCMUTE', 'to'], ['to', 'HCMUTE'], ['\"HCMUTE\\'s\"', 'The'], ['The', '\"HCMUTE\\'s\"'], ['Ho', 'Minh'], ['Minh', 'Ho'], ['Ho', 'The'], ['The', 'Ho'], ['Ho', 'University'], ['University', 'Ho'], ['and', 'Ho'], ['Ho', 'and'], ['Ho', 'engineering'], ['engineering', 'Ho'], ['Ho', 'in'], ['in', 'Ho'], ['Ho', 'of'], ['of', 'Ho'], ['Ho', 'the'], ['the', 'Ho'], ['Ho', 'to'], ['to', 'Ho'], ['The', 'Minh'], ['Minh', 'The'], ['Minh', 'University'], ['University', 'Minh'], ['and', 'Minh'], ['Minh', 'and'], ['Minh', 'engineering'], ['engineering', 'Minh'], ['in', 'Minh'], ['Minh', 'in'], ['of', 'Minh'], ['Minh', 'of'], ['Minh', 'the'], ['the', 'Minh'], ['Minh', 'to'], ['to', 'Minh'], ['Offering', 'The'], ['The', 'Offering'], ['The', 'Pedagogical'], ['Pedagogical', 'The'], ['Research', 'The'], ['The', 'Research'], ['The', 'Situated'], ['Situated', 'The'], ['The', 'Technology'], ['Technology', 'The'], ['and', 'Technology'], ['Technology', 'and'], ['in', 'Technology'], ['Technology', 'in'], ['of', 'Technology'], ['Technology', 'of'], ['Technology', 'the'], ['the', 'Technology'], ['The', 'Thu'], ['Thu', 'The'], ['The', 'University'], ['University', 'The'], ['The', 'Vietnam'], ['Vietnam', 'The'], ['The', 'With'], ['With', 'The'], ['The', 'academic'], ['academic', 'The'], ['an', 'The'], ['The', 'an'], ['and', 'The'], ['The', 'and'], ['The', 'architecture'], ['architecture', 'The'], ['The', 'array'], ['array', 'The'], ['The', 'beacon'], ['beacon', 'The'], ['The', 'bustling'], ['bustling', 'The'], ['The', 'campus'], ['campus', 'The'], ['The', 'caters'], ['caters', 'The'], ['The', 'civil'], ['civil', 'The'], ['The', 'collaborative'], ['collaborative', 'The'], ['computer', 'The'], ['The', 'computer'], ['The', 'conducive'], ['conducive', 'The'], ['The', 'cornerstone'], ['cornerstone', 'The'], ['The', 'diverse'], ['diverse', 'The'], ['education', 'The'], ['The', 'education'], ['The', 'engineering'], ['engineering', 'The'], ['entities', 'The'], ['The', 'entities'], ['environment', 'The'], ['The', 'environment'], ['excellence', 'The'], ['The', 'excellence'], ['facilities', 'The'], ['The', 'facilities'], ['The', 'for'], ['for', 'The'], ['The', 'form'], ['form', 'The'], ['The', 'fosters'], ['fosters', 'The'], ['The', 'government'], ['government', 'The'], ['The', 'graduate'], ['graduate', 'The'], ['groundbreaking', 'The'], ['The', 'groundbreaking'], ['The', 'hub'], ['hub', 'The'], ['The', 'in'], ['in', 'The'], ['The', 'industry'], ['industry', 'The'], ['innovation', 'The'], ['The', 'innovation'], ['interests', 'The'], ['The', 'interests'], ['The', 'into'], ['into', 'The'], ['its', 'The'], ['The', 'its'], ['The', 'journey'], ['journey', 'The'], ['learning', 'The'], ['The', 'learning'], ['The', 'management'], ['management', 'The'], ['The', 'marked'], ['marked', 'The'], ['The', 'mechanical'], ['mechanical', 'The'], ['metropolis', 'The'], ['The', 'metropolis'], ['The', 'milestone'], ['milestone', 'The'], ['The', 'mission'], ['mission', 'The'], ['of', 'The'], ['The', 'of'], ['partnerships', 'The'], ['The', 'partnerships'], ['The', 'programs'], ['programs', 'The'], ['research', 'The'], ['The', 'research'], ['The', 'science'], ['science', 'The'], ['serves', 'The'], ['The', 'serves'], ['The', 'significant'], ['significant', 'The'], ['specializes', 'The'], ['The', 'specializes'], ['spectrum', 'The'], ['The', 'spectrum'], ['stands', 'The'], ['The', 'stands'], ['The', 'state-of-the-art'], ['state-of-the-art', 'The'], ['technology', 'The'], ['The', 'technology'], ['The', 'the'], ['the', 'The'], ['The', 'to'], ['to', 'The'], ['The', 'transformation'], ['transformation', 'The'], ['The', 'undergraduate'], ['undergraduate', 'The'], ['university', 'The'], ['The', 'university'], ['\"university\\'s\"', 'The'], ['The', '\"university\\'s\"'], ['The', 'vibrant'], ['vibrant', 'The'], ['The', 'wide'], ['wide', 'The'], ['The', 'with'], ['with', 'The'], ['and', 'University'], ['University', 'and'], ['in', 'University'], ['University', 'in'], ['of', 'University'], ['University', 'of'], ['University', 'the'], ['the', 'University'], ['University', 'to'], ['to', 'University'], ['and', 'academic'], ['academic', 'and'], ['in', 'academic'], ['academic', 'in'], ['of', 'academic'], ['academic', 'of'], ['the', 'academic'], ['academic', 'the'], ['and', 'beacon'], ['beacon', 'and'], ['education', 'and'], ['and', 'education'], ['and', 'engineering'], ['engineering', 'and'], ['and', 'in'], ['in', 'and'], ['and', 'innovation'], ['innovation', 'and'], ['its', 'and'], ['and', 'its'], ['and', 'of'], ['of', 'and'], ['stands', 'and'], ['and', 'stands'], ['and', 'the'], ['the', 'and'], ['and', 'to'], ['to', 'and'], ['and', 'university'], ['university', 'and'], ['in', 'beacon'], ['beacon', 'in'], ['of', 'beacon'], ['beacon', 'of'], ['beacon', 'the'], ['the', 'beacon'], ['education', 'in'], ['in', 'education'], ['education', 'of'], ['of', 'education'], ['education', 'the'], ['the', 'education'], ['in', 'engineering'], ['engineering', 'in'], ['of', 'engineering'], ['engineering', 'of'], ['engineering', 'the'], ['the', 'engineering'], ['engineering', 'to'], ['to', 'engineering'], ['innovation', 'in'], ['in', 'innovation'], ['its', 'in'], ['in', 'its'], ['of', 'in'], ['in', 'of'], ['stands', 'in'], ['in', 'stands'], ['in', 'the'], ['the', 'in'], ['in', 'to'], ['to', 'in'], ['university', 'in'], ['in', 'university'], ['innovation', 'of'], ['of', 'innovation'], ['innovation', 'the'], ['the', 'innovation'], ['its', 'of'], ['of', 'its'], ['its', 'the'], ['the', 'its'], ['stands', 'of'], ['of', 'stands'], ['of', 'the'], ['the', 'of'], ['of', 'to'], ['to', 'of'], ['university', 'of'], ['of', 'university'], ['stands', 'the'], ['the', 'stands'], ['the', 'to'], ['to', 'the'], ['university', 'the'], ['the', 'university'], [\"and', 'The\", 'Chi'], [\"and', 'Chi\", 'The'], [\"The', 'Chi\", 'and'], ['and', \"The', 'Chi\"], ['The', \"and', 'Chi\"], ['Chi', \"and', 'The\"], [\"and', 'The\", 'City'], [\"and', 'City\", 'The'], [\"The', 'City\", 'and'], ['and', \"The', 'City\"], ['The', \"and', 'City\"], ['City', \"and', 'The\"], [\"and', 'The\", 'HCMUTE'], [\"and', 'HCMUTE\", 'The'], [\"The', 'HCMUTE\", 'and'], ['and', \"The', 'HCMUTE\"], ['The', \"and', 'HCMUTE\"], ['HCMUTE', \"and', 'The\"], [\"and', 'The\", 'Ho'], [\"and', 'Ho\", 'The'], [\"Ho', 'The\", 'and'], ['and', \"Ho', 'The\"], ['The', \"and', 'Ho\"], ['Ho', \"and', 'The\"], [\"and', 'The\", 'Minh'], [\"and', 'Minh\", 'The'], [\"The', 'Minh\", 'and'], ['and', \"The', 'Minh\"], ['The', \"and', 'Minh\"], ['Minh', \"and', 'The\"], [\"and', 'of\", 'The'], [\"and', 'The\", 'of'], [\"of', 'The\", 'and'], ['and', \"of', 'The\"], ['of', \"and', 'The\"], ['The', \"and', 'of\"]]\n"
     ]
    }
   ],
   "source": [
    "print(rules_list)"
   ]
  },
  {
   "cell_type": "code",
   "execution_count": 303,
   "id": "cec432e4",
   "metadata": {},
   "outputs": [],
   "source": [
    "text = \"Ho\"\n",
    "dk = text\n",
    "dem = 0"
   ]
  },
  {
   "cell_type": "code",
   "execution_count": 304,
   "id": "c80beb68",
   "metadata": {},
   "outputs": [
    {
     "name": "stdout",
     "output_type": "stream",
     "text": [
      "Chi\n",
      "Minh\n",
      "City\n"
     ]
    }
   ],
   "source": [
    "for d in range(0,3):\n",
    "    t = 0\n",
    "    for i in range(dem,len(rules_list)):\n",
    "        if(rules_list[i][0]==dk and not(rules_list[i][1] in text)):\n",
    "            dk = rules_list[i][1]\n",
    "            print(dk)\n",
    "            text+=\" \"+rules_list[i][1]\n",
    "            break\n",
    "        t+=1\n",
    "    dem+=t"
   ]
  },
  {
   "cell_type": "code",
   "execution_count": 305,
   "id": "48be7def",
   "metadata": {},
   "outputs": [
    {
     "name": "stdout",
     "output_type": "stream",
     "text": [
      "Ho Chi Minh City\n"
     ]
    }
   ],
   "source": [
    "print(text)"
   ]
  },
  {
   "cell_type": "code",
   "execution_count": null,
   "id": "6bf1b66a",
   "metadata": {},
   "outputs": [],
   "source": []
  }
 ],
 "metadata": {
  "kernelspec": {
   "display_name": "Python 3 (ipykernel)",
   "language": "python",
   "name": "python3"
  },
  "language_info": {
   "codemirror_mode": {
    "name": "ipython",
    "version": 3
   },
   "file_extension": ".py",
   "mimetype": "text/x-python",
   "name": "python",
   "nbconvert_exporter": "python",
   "pygments_lexer": "ipython3",
   "version": "3.9.7"
  }
 },
 "nbformat": 4,
 "nbformat_minor": 5
}
